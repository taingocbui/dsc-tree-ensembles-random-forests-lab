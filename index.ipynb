{
  "cells": [
    {
      "cell_type": "markdown",
      "metadata": {
        "id": "KulYak6_c44f"
      },
      "source": [
        "# Tree Ensembles and Random Forests - Lab\n",
        "\n",
        "## Introduction\n",
        "\n",
        "In this lab, we'll create some popular tree ensemble models such as a bag of trees and random forest to predict a person's salary based on information about them.\n",
        "\n",
        "## Objectives\n",
        "\n",
        "In this lab you will:\n",
        "\n",
        "- Train a random forest model using `scikit-learn`  \n",
        "- Access, visualize, and interpret feature importances from an ensemble model"
      ]
    },
    {
      "cell_type": "markdown",
      "metadata": {
        "id": "XelTD1l-c44j"
      },
      "source": [
        "## Import data"
      ]
    },
    {
      "cell_type": "markdown",
      "metadata": {
        "id": "gP9EvP-wc44k"
      },
      "source": [
        "In this lab, you'll use personal attributes to predict whether people make more than 50k/year.  The dataset was extracted from the census bureau database. The goal is to use this dataset to try and draw conclusions regarding what drives salaries. More specifically, the target variable is categorical (> 50k and <= 50 k). Let's create a classification tree!\n",
        "\n",
        "To get started, run the cell below to import everything we'll need for this lab."
      ]
    },
    {
      "cell_type": "code",
      "execution_count": 6,
      "metadata": {
        "id": "MChbTKtNc44k"
      },
      "outputs": [],
      "source": [
        "import pandas as pd\n",
        "import numpy as np\n",
        "np.random.seed(0)\n",
        "import matplotlib.pyplot as plt\n",
        "from sklearn.model_selection import train_test_split\n",
        "from sklearn.metrics import accuracy_score, confusion_matrix, classification_report\n",
        "from sklearn.tree import DecisionTreeClassifier\n",
        "from sklearn.ensemble import BaggingClassifier, RandomForestClassifier"
      ]
    },
    {
      "cell_type": "markdown",
      "metadata": {
        "id": "2xqhybn8c44l"
      },
      "source": [
        "Our dataset is stored in the file `'salaries_final.csv'`.  \n",
        "\n",
        "In the cell below, import the dataset from this file and store it in a DataFrame. Be sure to set the `index_col` parameter to `0`.  Then, display the `.head()` of the DataFrame to ensure that everything loaded correctly."
      ]
    },
    {
      "cell_type": "code",
      "execution_count": 14,
      "metadata": {
        "id": "1GVp6Klic44m"
      },
      "outputs": [],
      "source": [
        "# Import the data\n",
        "salaries = pd.read_csv('https://raw.githubusercontent.com/taingocbui/dsc-tree-ensembles-random-forests-lab/master/salaries_final.csv', index_col = 0)\n"
      ]
    },
    {
      "cell_type": "markdown",
      "metadata": {
        "id": "7RxyEDFKc44m"
      },
      "source": [
        "In total, there are 6 predictors, and one outcome variable, the salary, `Target` - `<= 50k` and `>50k`."
      ]
    },
    {
      "cell_type": "markdown",
      "metadata": {
        "id": "qwNQkYMQc44m"
      },
      "source": [
        "The 6 predictors are:\n",
        "\n",
        "- `Age`: continuous\n",
        "\n",
        "- `Education`: Categorical. Bachelors, Some-college, 11th, HS-grad, Prof-school, Assoc-acdm, Assoc-voc, 9th, 7th-8th, 12th, Masters, 1st-4th, 10th, Doctorate, 5th-6th, Preschool\n",
        "\n",
        "- `Occupation`: Tech-support, Craft-repair, Other-service, Sales, Exec-managerial, Prof-specialty, Handlers-cleaners, Machine-op-inspct, Adm-clerical, Farming-fishing, Transport-moving, Priv-house-serv, Protective-serv, Armed-Forces\n",
        "\n",
        "- `Relationship`: Wife, Own-child, Husband, Not-in-family, Other-relative, Unmarried\n",
        "\n",
        "- `Race`: White, Asian-Pac-Islander, Amer-Indian-Eskimo, Other, Black\n",
        "\n",
        "- `Sex`: Female, Male"
      ]
    },
    {
      "cell_type": "markdown",
      "metadata": {
        "id": "uXY4MHgUc44n"
      },
      "source": [
        "First, we'll need to store our `'Target'` column in a separate variable and drop it from the dataset.  \n",
        "\n",
        "Do this in the cell below."
      ]
    },
    {
      "cell_type": "code",
      "execution_count": 15,
      "metadata": {
        "id": "hbzVbHpXc44n"
      },
      "outputs": [],
      "source": [
        "# Split the outcome and predictor variables\n",
        "target = salaries['Target']\n",
        "salaries.drop('Target', axis = 1, inplace = True)"
      ]
    },
    {
      "cell_type": "markdown",
      "metadata": {
        "id": "t0vhcfKVc44o"
      },
      "source": [
        "In the cell below, examine the data type of each column:  "
      ]
    },
    {
      "cell_type": "code",
      "execution_count": 16,
      "metadata": {
        "colab": {
          "base_uri": "https://localhost:8080/"
        },
        "id": "W4aRelMwc44o",
        "outputId": "503ac294-84df-4995-acab-c805b858d990"
      },
      "outputs": [
        {
          "output_type": "stream",
          "name": "stdout",
          "text": [
            "<class 'pandas.core.frame.DataFrame'>\n",
            "Index: 32561 entries, 0 to 32560\n",
            "Data columns (total 6 columns):\n",
            " #   Column        Non-Null Count  Dtype \n",
            "---  ------        --------------  ----- \n",
            " 0   Age           32561 non-null  int64 \n",
            " 1   Education     32561 non-null  object\n",
            " 2   Occupation    32561 non-null  object\n",
            " 3   Relationship  32561 non-null  object\n",
            " 4   Race          32561 non-null  object\n",
            " 5   Sex           32561 non-null  object\n",
            "dtypes: int64(1), object(5)\n",
            "memory usage: 1.7+ MB\n"
          ]
        }
      ],
      "source": [
        "# Your code here\n",
        "salaries.info()"
      ]
    },
    {
      "cell_type": "markdown",
      "metadata": {
        "id": "Bzc7KU80c44o"
      },
      "source": [
        "Great. `'Age'` is numeric, as it should be. Now we're ready to create some dummy columns and deal with our categorical variables.  \n",
        "\n",
        "In the cell below, use Pandas to create dummy columns for each of categorical variables. If you're unsure of how to do this, check out the [documentation](https://pandas.pydata.org/pandas-docs/stable/generated/pandas.get_dummies.html).  "
      ]
    },
    {
      "cell_type": "code",
      "execution_count": 17,
      "metadata": {
        "colab": {
          "base_uri": "https://localhost:8080/",
          "height": 290
        },
        "id": "L9q4Hm8xc44o",
        "outputId": "3e6781bc-5f8f-4fcc-ca53-be09099048c3"
      },
      "outputs": [
        {
          "output_type": "execute_result",
          "data": {
            "text/plain": [
              "   Age  Education_10th  Education_11th  Education_12th  Education_1st-4th  \\\n",
              "0   39           False           False           False              False   \n",
              "1   50           False           False           False              False   \n",
              "2   38           False           False           False              False   \n",
              "3   53           False            True           False              False   \n",
              "4   28           False           False           False              False   \n",
              "\n",
              "   Education_5th-6th  Education_7th-8th  Education_9th  Education_Assoc-acdm  \\\n",
              "0              False              False          False                 False   \n",
              "1              False              False          False                 False   \n",
              "2              False              False          False                 False   \n",
              "3              False              False          False                 False   \n",
              "4              False              False          False                 False   \n",
              "\n",
              "   Education_Assoc-voc  ...  Relationship_Own-child  Relationship_Unmarried  \\\n",
              "0                False  ...                   False                   False   \n",
              "1                False  ...                   False                   False   \n",
              "2                False  ...                   False                   False   \n",
              "3                False  ...                   False                   False   \n",
              "4                False  ...                   False                   False   \n",
              "\n",
              "   Relationship_Wife  Race_Amer-Indian-Eskimo  Race_Asian-Pac-Islander  \\\n",
              "0              False                    False                    False   \n",
              "1              False                    False                    False   \n",
              "2              False                    False                    False   \n",
              "3              False                    False                    False   \n",
              "4               True                    False                    False   \n",
              "\n",
              "   Race_Black  Race_Other  Race_White  Sex_Female  Sex_Male  \n",
              "0       False       False        True       False      True  \n",
              "1       False       False        True       False      True  \n",
              "2       False       False        True       False      True  \n",
              "3        True       False       False       False      True  \n",
              "4        True       False       False        True     False  \n",
              "\n",
              "[5 rows x 45 columns]"
            ],
            "text/html": [
              "\n",
              "  <div id=\"df-7be32aa3-5e90-470b-98db-02b53683bed0\" class=\"colab-df-container\">\n",
              "    <div>\n",
              "<style scoped>\n",
              "    .dataframe tbody tr th:only-of-type {\n",
              "        vertical-align: middle;\n",
              "    }\n",
              "\n",
              "    .dataframe tbody tr th {\n",
              "        vertical-align: top;\n",
              "    }\n",
              "\n",
              "    .dataframe thead th {\n",
              "        text-align: right;\n",
              "    }\n",
              "</style>\n",
              "<table border=\"1\" class=\"dataframe\">\n",
              "  <thead>\n",
              "    <tr style=\"text-align: right;\">\n",
              "      <th></th>\n",
              "      <th>Age</th>\n",
              "      <th>Education_10th</th>\n",
              "      <th>Education_11th</th>\n",
              "      <th>Education_12th</th>\n",
              "      <th>Education_1st-4th</th>\n",
              "      <th>Education_5th-6th</th>\n",
              "      <th>Education_7th-8th</th>\n",
              "      <th>Education_9th</th>\n",
              "      <th>Education_Assoc-acdm</th>\n",
              "      <th>Education_Assoc-voc</th>\n",
              "      <th>...</th>\n",
              "      <th>Relationship_Own-child</th>\n",
              "      <th>Relationship_Unmarried</th>\n",
              "      <th>Relationship_Wife</th>\n",
              "      <th>Race_Amer-Indian-Eskimo</th>\n",
              "      <th>Race_Asian-Pac-Islander</th>\n",
              "      <th>Race_Black</th>\n",
              "      <th>Race_Other</th>\n",
              "      <th>Race_White</th>\n",
              "      <th>Sex_Female</th>\n",
              "      <th>Sex_Male</th>\n",
              "    </tr>\n",
              "  </thead>\n",
              "  <tbody>\n",
              "    <tr>\n",
              "      <th>0</th>\n",
              "      <td>39</td>\n",
              "      <td>False</td>\n",
              "      <td>False</td>\n",
              "      <td>False</td>\n",
              "      <td>False</td>\n",
              "      <td>False</td>\n",
              "      <td>False</td>\n",
              "      <td>False</td>\n",
              "      <td>False</td>\n",
              "      <td>False</td>\n",
              "      <td>...</td>\n",
              "      <td>False</td>\n",
              "      <td>False</td>\n",
              "      <td>False</td>\n",
              "      <td>False</td>\n",
              "      <td>False</td>\n",
              "      <td>False</td>\n",
              "      <td>False</td>\n",
              "      <td>True</td>\n",
              "      <td>False</td>\n",
              "      <td>True</td>\n",
              "    </tr>\n",
              "    <tr>\n",
              "      <th>1</th>\n",
              "      <td>50</td>\n",
              "      <td>False</td>\n",
              "      <td>False</td>\n",
              "      <td>False</td>\n",
              "      <td>False</td>\n",
              "      <td>False</td>\n",
              "      <td>False</td>\n",
              "      <td>False</td>\n",
              "      <td>False</td>\n",
              "      <td>False</td>\n",
              "      <td>...</td>\n",
              "      <td>False</td>\n",
              "      <td>False</td>\n",
              "      <td>False</td>\n",
              "      <td>False</td>\n",
              "      <td>False</td>\n",
              "      <td>False</td>\n",
              "      <td>False</td>\n",
              "      <td>True</td>\n",
              "      <td>False</td>\n",
              "      <td>True</td>\n",
              "    </tr>\n",
              "    <tr>\n",
              "      <th>2</th>\n",
              "      <td>38</td>\n",
              "      <td>False</td>\n",
              "      <td>False</td>\n",
              "      <td>False</td>\n",
              "      <td>False</td>\n",
              "      <td>False</td>\n",
              "      <td>False</td>\n",
              "      <td>False</td>\n",
              "      <td>False</td>\n",
              "      <td>False</td>\n",
              "      <td>...</td>\n",
              "      <td>False</td>\n",
              "      <td>False</td>\n",
              "      <td>False</td>\n",
              "      <td>False</td>\n",
              "      <td>False</td>\n",
              "      <td>False</td>\n",
              "      <td>False</td>\n",
              "      <td>True</td>\n",
              "      <td>False</td>\n",
              "      <td>True</td>\n",
              "    </tr>\n",
              "    <tr>\n",
              "      <th>3</th>\n",
              "      <td>53</td>\n",
              "      <td>False</td>\n",
              "      <td>True</td>\n",
              "      <td>False</td>\n",
              "      <td>False</td>\n",
              "      <td>False</td>\n",
              "      <td>False</td>\n",
              "      <td>False</td>\n",
              "      <td>False</td>\n",
              "      <td>False</td>\n",
              "      <td>...</td>\n",
              "      <td>False</td>\n",
              "      <td>False</td>\n",
              "      <td>False</td>\n",
              "      <td>False</td>\n",
              "      <td>False</td>\n",
              "      <td>True</td>\n",
              "      <td>False</td>\n",
              "      <td>False</td>\n",
              "      <td>False</td>\n",
              "      <td>True</td>\n",
              "    </tr>\n",
              "    <tr>\n",
              "      <th>4</th>\n",
              "      <td>28</td>\n",
              "      <td>False</td>\n",
              "      <td>False</td>\n",
              "      <td>False</td>\n",
              "      <td>False</td>\n",
              "      <td>False</td>\n",
              "      <td>False</td>\n",
              "      <td>False</td>\n",
              "      <td>False</td>\n",
              "      <td>False</td>\n",
              "      <td>...</td>\n",
              "      <td>False</td>\n",
              "      <td>False</td>\n",
              "      <td>True</td>\n",
              "      <td>False</td>\n",
              "      <td>False</td>\n",
              "      <td>True</td>\n",
              "      <td>False</td>\n",
              "      <td>False</td>\n",
              "      <td>True</td>\n",
              "      <td>False</td>\n",
              "    </tr>\n",
              "  </tbody>\n",
              "</table>\n",
              "<p>5 rows × 45 columns</p>\n",
              "</div>\n",
              "    <div class=\"colab-df-buttons\">\n",
              "\n",
              "  <div class=\"colab-df-container\">\n",
              "    <button class=\"colab-df-convert\" onclick=\"convertToInteractive('df-7be32aa3-5e90-470b-98db-02b53683bed0')\"\n",
              "            title=\"Convert this dataframe to an interactive table.\"\n",
              "            style=\"display:none;\">\n",
              "\n",
              "  <svg xmlns=\"http://www.w3.org/2000/svg\" height=\"24px\" viewBox=\"0 -960 960 960\">\n",
              "    <path d=\"M120-120v-720h720v720H120Zm60-500h600v-160H180v160Zm220 220h160v-160H400v160Zm0 220h160v-160H400v160ZM180-400h160v-160H180v160Zm440 0h160v-160H620v160ZM180-180h160v-160H180v160Zm440 0h160v-160H620v160Z\"/>\n",
              "  </svg>\n",
              "    </button>\n",
              "\n",
              "  <style>\n",
              "    .colab-df-container {\n",
              "      display:flex;\n",
              "      gap: 12px;\n",
              "    }\n",
              "\n",
              "    .colab-df-convert {\n",
              "      background-color: #E8F0FE;\n",
              "      border: none;\n",
              "      border-radius: 50%;\n",
              "      cursor: pointer;\n",
              "      display: none;\n",
              "      fill: #1967D2;\n",
              "      height: 32px;\n",
              "      padding: 0 0 0 0;\n",
              "      width: 32px;\n",
              "    }\n",
              "\n",
              "    .colab-df-convert:hover {\n",
              "      background-color: #E2EBFA;\n",
              "      box-shadow: 0px 1px 2px rgba(60, 64, 67, 0.3), 0px 1px 3px 1px rgba(60, 64, 67, 0.15);\n",
              "      fill: #174EA6;\n",
              "    }\n",
              "\n",
              "    .colab-df-buttons div {\n",
              "      margin-bottom: 4px;\n",
              "    }\n",
              "\n",
              "    [theme=dark] .colab-df-convert {\n",
              "      background-color: #3B4455;\n",
              "      fill: #D2E3FC;\n",
              "    }\n",
              "\n",
              "    [theme=dark] .colab-df-convert:hover {\n",
              "      background-color: #434B5C;\n",
              "      box-shadow: 0px 1px 3px 1px rgba(0, 0, 0, 0.15);\n",
              "      filter: drop-shadow(0px 1px 2px rgba(0, 0, 0, 0.3));\n",
              "      fill: #FFFFFF;\n",
              "    }\n",
              "  </style>\n",
              "\n",
              "    <script>\n",
              "      const buttonEl =\n",
              "        document.querySelector('#df-7be32aa3-5e90-470b-98db-02b53683bed0 button.colab-df-convert');\n",
              "      buttonEl.style.display =\n",
              "        google.colab.kernel.accessAllowed ? 'block' : 'none';\n",
              "\n",
              "      async function convertToInteractive(key) {\n",
              "        const element = document.querySelector('#df-7be32aa3-5e90-470b-98db-02b53683bed0');\n",
              "        const dataTable =\n",
              "          await google.colab.kernel.invokeFunction('convertToInteractive',\n",
              "                                                    [key], {});\n",
              "        if (!dataTable) return;\n",
              "\n",
              "        const docLinkHtml = 'Like what you see? Visit the ' +\n",
              "          '<a target=\"_blank\" href=https://colab.research.google.com/notebooks/data_table.ipynb>data table notebook</a>'\n",
              "          + ' to learn more about interactive tables.';\n",
              "        element.innerHTML = '';\n",
              "        dataTable['output_type'] = 'display_data';\n",
              "        await google.colab.output.renderOutput(dataTable, element);\n",
              "        const docLink = document.createElement('div');\n",
              "        docLink.innerHTML = docLinkHtml;\n",
              "        element.appendChild(docLink);\n",
              "      }\n",
              "    </script>\n",
              "  </div>\n",
              "\n",
              "\n",
              "<div id=\"df-ce2ea368-0401-41fb-bd8d-d6f4a1e86c3c\">\n",
              "  <button class=\"colab-df-quickchart\" onclick=\"quickchart('df-ce2ea368-0401-41fb-bd8d-d6f4a1e86c3c')\"\n",
              "            title=\"Suggest charts\"\n",
              "            style=\"display:none;\">\n",
              "\n",
              "<svg xmlns=\"http://www.w3.org/2000/svg\" height=\"24px\"viewBox=\"0 0 24 24\"\n",
              "     width=\"24px\">\n",
              "    <g>\n",
              "        <path d=\"M19 3H5c-1.1 0-2 .9-2 2v14c0 1.1.9 2 2 2h14c1.1 0 2-.9 2-2V5c0-1.1-.9-2-2-2zM9 17H7v-7h2v7zm4 0h-2V7h2v10zm4 0h-2v-4h2v4z\"/>\n",
              "    </g>\n",
              "</svg>\n",
              "  </button>\n",
              "\n",
              "<style>\n",
              "  .colab-df-quickchart {\n",
              "      --bg-color: #E8F0FE;\n",
              "      --fill-color: #1967D2;\n",
              "      --hover-bg-color: #E2EBFA;\n",
              "      --hover-fill-color: #174EA6;\n",
              "      --disabled-fill-color: #AAA;\n",
              "      --disabled-bg-color: #DDD;\n",
              "  }\n",
              "\n",
              "  [theme=dark] .colab-df-quickchart {\n",
              "      --bg-color: #3B4455;\n",
              "      --fill-color: #D2E3FC;\n",
              "      --hover-bg-color: #434B5C;\n",
              "      --hover-fill-color: #FFFFFF;\n",
              "      --disabled-bg-color: #3B4455;\n",
              "      --disabled-fill-color: #666;\n",
              "  }\n",
              "\n",
              "  .colab-df-quickchart {\n",
              "    background-color: var(--bg-color);\n",
              "    border: none;\n",
              "    border-radius: 50%;\n",
              "    cursor: pointer;\n",
              "    display: none;\n",
              "    fill: var(--fill-color);\n",
              "    height: 32px;\n",
              "    padding: 0;\n",
              "    width: 32px;\n",
              "  }\n",
              "\n",
              "  .colab-df-quickchart:hover {\n",
              "    background-color: var(--hover-bg-color);\n",
              "    box-shadow: 0 1px 2px rgba(60, 64, 67, 0.3), 0 1px 3px 1px rgba(60, 64, 67, 0.15);\n",
              "    fill: var(--button-hover-fill-color);\n",
              "  }\n",
              "\n",
              "  .colab-df-quickchart-complete:disabled,\n",
              "  .colab-df-quickchart-complete:disabled:hover {\n",
              "    background-color: var(--disabled-bg-color);\n",
              "    fill: var(--disabled-fill-color);\n",
              "    box-shadow: none;\n",
              "  }\n",
              "\n",
              "  .colab-df-spinner {\n",
              "    border: 2px solid var(--fill-color);\n",
              "    border-color: transparent;\n",
              "    border-bottom-color: var(--fill-color);\n",
              "    animation:\n",
              "      spin 1s steps(1) infinite;\n",
              "  }\n",
              "\n",
              "  @keyframes spin {\n",
              "    0% {\n",
              "      border-color: transparent;\n",
              "      border-bottom-color: var(--fill-color);\n",
              "      border-left-color: var(--fill-color);\n",
              "    }\n",
              "    20% {\n",
              "      border-color: transparent;\n",
              "      border-left-color: var(--fill-color);\n",
              "      border-top-color: var(--fill-color);\n",
              "    }\n",
              "    30% {\n",
              "      border-color: transparent;\n",
              "      border-left-color: var(--fill-color);\n",
              "      border-top-color: var(--fill-color);\n",
              "      border-right-color: var(--fill-color);\n",
              "    }\n",
              "    40% {\n",
              "      border-color: transparent;\n",
              "      border-right-color: var(--fill-color);\n",
              "      border-top-color: var(--fill-color);\n",
              "    }\n",
              "    60% {\n",
              "      border-color: transparent;\n",
              "      border-right-color: var(--fill-color);\n",
              "    }\n",
              "    80% {\n",
              "      border-color: transparent;\n",
              "      border-right-color: var(--fill-color);\n",
              "      border-bottom-color: var(--fill-color);\n",
              "    }\n",
              "    90% {\n",
              "      border-color: transparent;\n",
              "      border-bottom-color: var(--fill-color);\n",
              "    }\n",
              "  }\n",
              "</style>\n",
              "\n",
              "  <script>\n",
              "    async function quickchart(key) {\n",
              "      const quickchartButtonEl =\n",
              "        document.querySelector('#' + key + ' button');\n",
              "      quickchartButtonEl.disabled = true;  // To prevent multiple clicks.\n",
              "      quickchartButtonEl.classList.add('colab-df-spinner');\n",
              "      try {\n",
              "        const charts = await google.colab.kernel.invokeFunction(\n",
              "            'suggestCharts', [key], {});\n",
              "      } catch (error) {\n",
              "        console.error('Error during call to suggestCharts:', error);\n",
              "      }\n",
              "      quickchartButtonEl.classList.remove('colab-df-spinner');\n",
              "      quickchartButtonEl.classList.add('colab-df-quickchart-complete');\n",
              "    }\n",
              "    (() => {\n",
              "      let quickchartButtonEl =\n",
              "        document.querySelector('#df-ce2ea368-0401-41fb-bd8d-d6f4a1e86c3c button');\n",
              "      quickchartButtonEl.style.display =\n",
              "        google.colab.kernel.accessAllowed ? 'block' : 'none';\n",
              "    })();\n",
              "  </script>\n",
              "</div>\n",
              "\n",
              "    </div>\n",
              "  </div>\n"
            ],
            "application/vnd.google.colaboratory.intrinsic+json": {
              "type": "dataframe",
              "variable_name": "data"
            }
          },
          "metadata": {},
          "execution_count": 17
        }
      ],
      "source": [
        "# Create dummy variables\n",
        "data = pd.get_dummies(salaries)\n",
        "data.head()"
      ]
    },
    {
      "cell_type": "markdown",
      "metadata": {
        "id": "8EuPCj7bc44p"
      },
      "source": [
        "Now, split `data` and `target` into 75/25 training and test sets. Set the `random_state` to 123.  "
      ]
    },
    {
      "cell_type": "code",
      "execution_count": 18,
      "metadata": {
        "id": "2uUggoLXc44p"
      },
      "outputs": [],
      "source": [
        "data_train, data_test, target_train, target_test = train_test_split(data, target, test_size = 0.25, random_state = 123)"
      ]
    },
    {
      "cell_type": "markdown",
      "metadata": {
        "id": "FE0SumnEc44p"
      },
      "source": [
        "## Build a \"regular\" tree as a baseline\n",
        "\n",
        "We'll begin by fitting a regular decision tree classifier, so that we have something to compare our ensemble methods to.  "
      ]
    },
    {
      "cell_type": "markdown",
      "metadata": {
        "id": "xc3MrQNdc44p"
      },
      "source": [
        "### Build the tree\n",
        "\n",
        "In the cell below, instantiate and fit a decision tree classifier. Set the `criterion` to `'gini'`, and a `max_depth` of `5`.  Then, fit the tree to the training data and labels.   "
      ]
    },
    {
      "cell_type": "code",
      "execution_count": 19,
      "metadata": {
        "id": "unOnp7Gyc44p"
      },
      "outputs": [],
      "source": [
        "# Instantiate and fit a DecisionTreeClassifier\n",
        "tree_clf = DecisionTreeClassifier(criterion = 'gini', max_depth = 5).fit(data_train, target_train)\n"
      ]
    },
    {
      "cell_type": "markdown",
      "metadata": {
        "id": "jtgx6KONc44p"
      },
      "source": [
        "### Feature importance\n",
        "\n",
        "Let's quickly examine how important each feature ended up being in our decision tree model. Check the `feature_importances_` attribute of the trained model to see what it displays."
      ]
    },
    {
      "cell_type": "code",
      "execution_count": 20,
      "metadata": {
        "colab": {
          "base_uri": "https://localhost:8080/"
        },
        "id": "q50x1tqnc44p",
        "outputId": "4dbf51ac-5a0c-4b8f-9004-eb87491c7ded"
      },
      "outputs": [
        {
          "output_type": "execute_result",
          "data": {
            "text/plain": [
              "array([0.06761352, 0.        , 0.        , 0.        , 0.        ,\n",
              "       0.        , 0.        , 0.        , 0.        , 0.        ,\n",
              "       0.08071446, 0.        , 0.006495  , 0.02596604, 0.        ,\n",
              "       0.01482269, 0.        , 0.        , 0.        , 0.        ,\n",
              "       0.        , 0.0853097 , 0.00311049, 0.        , 0.        ,\n",
              "       0.        , 0.        , 0.0879446 , 0.        , 0.        ,\n",
              "       0.        , 0.        , 0.4950878 , 0.        , 0.        ,\n",
              "       0.        , 0.        , 0.1329357 , 0.        , 0.        ,\n",
              "       0.        , 0.        , 0.        , 0.        , 0.        ])"
            ]
          },
          "metadata": {},
          "execution_count": 20
        }
      ],
      "source": [
        "# Feature importance\n",
        "tree_clf.feature_importances_"
      ]
    },
    {
      "cell_type": "markdown",
      "metadata": {
        "id": "zdSkhCLqc44q"
      },
      "source": [
        "That matrix isn't very helpful, but a visualization of the data it contains could be.  Run the cell below to plot a visualization of the feature importances for this model."
      ]
    },
    {
      "cell_type": "code",
      "execution_count": 21,
      "metadata": {
        "colab": {
          "base_uri": "https://localhost:8080/",
          "height": 716
        },
        "id": "Ur_XavQxc44q",
        "outputId": "9f271d44-eda7-4434-f4e7-830839ede2f8"
      },
      "outputs": [
        {
          "output_type": "display_data",
          "data": {
            "text/plain": [
              "<Figure size 800x800 with 1 Axes>"
            ],
            "image/png": "[encoded data removed]"
          },
          "metadata": {}
        }
      ],
      "source": [
        "def plot_feature_importances(model):\n",
        "    n_features = data_train.shape[1]\n",
        "    plt.figure(figsize=(8,8))\n",
        "    plt.barh(range(n_features), model.feature_importances_, align='center')\n",
        "    plt.yticks(np.arange(n_features), data_train.columns.values)\n",
        "    plt.xlabel('Feature importance')\n",
        "    plt.ylabel('Feature')\n",
        "\n",
        "plot_feature_importances(tree_clf)"
      ]
    },
    {
      "cell_type": "markdown",
      "metadata": {
        "id": "wuWBq4zJc44q"
      },
      "source": [
        "### Model performance\n",
        "\n",
        "Next, let's see how well our model performed on the test data.\n",
        "\n",
        "In the cell below:\n",
        "\n",
        "* Use the model to generate predictions on the test set  \n",
        "* Print out a `confusion_matrix` of the test set predictions\n",
        "* Print out a `classification_report` of the test set predictions"
      ]
    },
    {
      "cell_type": "code",
      "execution_count": 23,
      "metadata": {
        "colab": {
          "base_uri": "https://localhost:8080/"
        },
        "id": "jrfqjfJlc44q",
        "outputId": "f6007fd7-630d-4ff7-a8a4-4f643b5e8ce4"
      },
      "outputs": [
        {
          "output_type": "stream",
          "name": "stdout",
          "text": [
            "[[5762  403]\n",
            " [1059  917]]\n",
            "              precision    recall  f1-score   support\n",
            "\n",
            "       <=50K       0.84      0.93      0.89      6165\n",
            "        >50K       0.69      0.46      0.56      1976\n",
            "\n",
            "    accuracy                           0.82      8141\n",
            "   macro avg       0.77      0.70      0.72      8141\n",
            "weighted avg       0.81      0.82      0.81      8141\n",
            "\n"
          ]
        }
      ],
      "source": [
        "# Test set predictions\n",
        "pred = tree_clf.predict(data_test)\n",
        "\n",
        "# Confusion matrix and classification report\n",
        "print(confusion_matrix(target_test, pred))\n",
        "print(classification_report(target_test, pred))\n"
      ]
    },
    {
      "cell_type": "markdown",
      "metadata": {
        "id": "w-7jiw9kc44q"
      },
      "source": [
        "Now, let's check the model's accuracy. Run the cell below to display the test set accuracy of the model."
      ]
    },
    {
      "cell_type": "code",
      "execution_count": 24,
      "metadata": {
        "colab": {
          "base_uri": "https://localhost:8080/"
        },
        "id": "xDAsl4uHc44q",
        "outputId": "9d8a93df-5427-4549-afd9-f1842e6fcf0c"
      },
      "outputs": [
        {
          "output_type": "stream",
          "name": "stdout",
          "text": [
            "Testing Accuracy for Decision Tree Classifier: 82.04%\n"
          ]
        }
      ],
      "source": [
        "print(\"Testing Accuracy for Decision Tree Classifier: {:.4}%\".format(accuracy_score(target_test, pred) * 100))"
      ]
    },
    {
      "cell_type": "markdown",
      "metadata": {
        "id": "iOhKW26wc44r"
      },
      "source": [
        "## Bagged trees\n",
        "\n",
        "The first ensemble approach we'll try is a bag of trees. This will make use of **_Bagging_**, along with a number of decision tree classifier models.  "
      ]
    },
    {
      "cell_type": "markdown",
      "metadata": {
        "id": "CGZAKqeGc44r"
      },
      "source": [
        "Now, let's instantiate a [`BaggingClassifier`](http://scikit-learn.org/stable/modules/generated/sklearn.ensemble.BaggingClassifier.html).  First, initialize a `DecisionTreeClassifier` and set the same parameters that we did above for `criterion` and `max_depth`.  Also set the `n_estimators` parameter for our `BaggingClassifier` to `20`."
      ]
    },
    {
      "cell_type": "code",
      "execution_count": 25,
      "metadata": {
        "id": "FnbK0Mbkc44r"
      },
      "outputs": [],
      "source": [
        "# Instantiate a BaggingClassifier\n",
        "bagged_tree = BaggingClassifier(DecisionTreeClassifier(criterion = 'gini', max_depth = 5), n_estimators= 20)"
      ]
    },
    {
      "cell_type": "markdown",
      "metadata": {
        "id": "P6PFux55c44r"
      },
      "source": [
        "Great! Now, fit it to our training data."
      ]
    },
    {
      "cell_type": "code",
      "execution_count": 26,
      "metadata": {
        "colab": {
          "base_uri": "https://localhost:8080/",
          "height": 137
        },
        "id": "9sCg51MIc44r",
        "outputId": "47be37b5-fd35-4e08-ab7a-aff25defdaa6"
      },
      "outputs": [
        {
          "output_type": "execute_result",
          "data": {
            "text/plain": [
              "BaggingClassifier(estimator=DecisionTreeClassifier(max_depth=5),\n",
              "                  n_estimators=20)"
            ],
            "text/html": [
              "<style>#sk-container-id-1 {color: black;}#sk-container-id-1 pre{padding: 0;}#sk-container-id-1 div.sk-toggleable {background-color: white;}#sk-container-id-1 label.sk-toggleable__label {cursor: pointer;display: block;width: 100%;margin-bottom: 0;padding: 0.3em;box-sizing: border-box;text-align: center;}#sk-container-id-1 label.sk-toggleable__label-arrow:before {content: \"▸\";float: left;margin-right: 0.25em;color: #696969;}#sk-container-id-1 label.sk-toggleable__label-arrow:hover:before {color: black;}#sk-container-id-1 div.sk-estimator:hover label.sk-toggleable__label-arrow:before {color: black;}#sk-container-id-1 div.sk-toggleable__content {max-height: 0;max-width: 0;overflow: hidden;text-align: left;background-color: #f0f8ff;}#sk-container-id-1 div.sk-toggleable__content pre {margin: 0.2em;color: black;border-radius: 0.25em;background-color: #f0f8ff;}#sk-container-id-1 input.sk-toggleable__control:checked~div.sk-toggleable__content {max-height: 200px;max-width: 100%;overflow: auto;}#sk-container-id-1 input.sk-toggleable__control:checked~label.sk-toggleable__label-arrow:before {content: \"▾\";}#sk-container-id-1 div.sk-estimator input.sk-toggleable__control:checked~label.sk-toggleable__label {background-color: #d4ebff;}#sk-container-id-1 div.sk-label input.sk-toggleable__control:checked~label.sk-toggleable__label {background-color: #d4ebff;}#sk-container-id-1 input.sk-hidden--visually {border: 0;clip: rect(1px 1px 1px 1px);clip: rect(1px, 1px, 1px, 1px);height: 1px;margin: -1px;overflow: hidden;padding: 0;position: absolute;width: 1px;}#sk-container-id-1 div.sk-estimator {font-family: monospace;background-color: #f0f8ff;border: 1px dotted black;border-radius: 0.25em;box-sizing: border-box;margin-bottom: 0.5em;}#sk-container-id-1 div.sk-estimator:hover {background-color: #d4ebff;}#sk-container-id-1 div.sk-parallel-item::after {content: \"\";width: 100%;border-bottom: 1px solid gray;flex-grow: 1;}#sk-container-id-1 div.sk-label:hover label.sk-toggleable__label {background-color: #d4ebff;}#sk-container-id-1 div.sk-serial::before {content: \"\";position: absolute;border-left: 1px solid gray;box-sizing: border-box;top: 0;bottom: 0;left: 50%;z-index: 0;}#sk-container-id-1 div.sk-serial {display: flex;flex-direction: column;align-items: center;background-color: white;padding-right: 0.2em;padding-left: 0.2em;position: relative;}#sk-container-id-1 div.sk-item {position: relative;z-index: 1;}#sk-container-id-1 div.sk-parallel {display: flex;align-items: stretch;justify-content: center;background-color: white;position: relative;}#sk-container-id-1 div.sk-item::before, #sk-container-id-1 div.sk-parallel-item::before {content: \"\";position: absolute;border-left: 1px solid gray;box-sizing: border-box;top: 0;bottom: 0;left: 50%;z-index: -1;}#sk-container-id-1 div.sk-parallel-item {display: flex;flex-direction: column;z-index: 1;position: relative;background-color: white;}#sk-container-id-1 div.sk-parallel-item:first-child::after {align-self: flex-end;width: 50%;}#sk-container-id-1 div.sk-parallel-item:last-child::after {align-self: flex-start;width: 50%;}#sk-container-id-1 div.sk-parallel-item:only-child::after {width: 0;}#sk-container-id-1 div.sk-dashed-wrapped {border: 1px dashed gray;margin: 0 0.4em 0.5em 0.4em;box-sizing: border-box;padding-bottom: 0.4em;background-color: white;}#sk-container-id-1 div.sk-label label {font-family: monospace;font-weight: bold;display: inline-block;line-height: 1.2em;}#sk-container-id-1 div.sk-label-container {text-align: center;}#sk-container-id-1 div.sk-container {/* jupyter's `normalize.less` sets `[hidden] { display: none; }` but bootstrap.min.css set `[hidden] { display: none !important; }` so we also need the `!important` here to be able to override the default hidden behavior on the sphinx rendered scikit-learn.org. See: https://github.com/scikit-learn/scikit-learn/issues/21755 */display: inline-block !important;position: relative;}#sk-container-id-1 div.sk-text-repr-fallback {display: none;}</style><div id=\"sk-container-id-1\" class=\"sk-top-container\"><div class=\"sk-text-repr-fallback\"><pre>BaggingClassifier(estimator=DecisionTreeClassifier(max_depth=5),\n",
              "                  n_estimators=20)</pre><b>In a Jupyter environment, please rerun this cell to show the HTML representation or trust the notebook. <br />On GitHub, the HTML representation is unable to render, please try loading this page with nbviewer.org.</b></div><div class=\"sk-container\" hidden><div class=\"sk-item sk-dashed-wrapped\"><div class=\"sk-label-container\"><div class=\"sk-label sk-toggleable\"><input class=\"sk-toggleable__control sk-hidden--visually\" id=\"sk-estimator-id-1\" type=\"checkbox\" ><label for=\"sk-estimator-id-1\" class=\"sk-toggleable__label sk-toggleable__label-arrow\">BaggingClassifier</label><div class=\"sk-toggleable__content\"><pre>BaggingClassifier(estimator=DecisionTreeClassifier(max_depth=5),\n",
              "                  n_estimators=20)</pre></div></div></div><div class=\"sk-parallel\"><div class=\"sk-parallel-item\"><div class=\"sk-item\"><div class=\"sk-label-container\"><div class=\"sk-label sk-toggleable\"><input class=\"sk-toggleable__control sk-hidden--visually\" id=\"sk-estimator-id-2\" type=\"checkbox\" ><label for=\"sk-estimator-id-2\" class=\"sk-toggleable__label sk-toggleable__label-arrow\">estimator: DecisionTreeClassifier</label><div class=\"sk-toggleable__content\"><pre>DecisionTreeClassifier(max_depth=5)</pre></div></div></div><div class=\"sk-serial\"><div class=\"sk-item\"><div class=\"sk-estimator sk-toggleable\"><input class=\"sk-toggleable__control sk-hidden--visually\" id=\"sk-estimator-id-3\" type=\"checkbox\" ><label for=\"sk-estimator-id-3\" class=\"sk-toggleable__label sk-toggleable__label-arrow\">DecisionTreeClassifier</label><div class=\"sk-toggleable__content\"><pre>DecisionTreeClassifier(max_depth=5)</pre></div></div></div></div></div></div></div></div></div></div>"
            ]
          },
          "metadata": {},
          "execution_count": 26
        }
      ],
      "source": [
        "# Fit to the training data\n",
        "bagged_tree.fit(data_train, target_train)"
      ]
    },
    {
      "cell_type": "markdown",
      "metadata": {
        "id": "HyhYRBSkc44r"
      },
      "source": [
        "Checking the accuracy of a model is such a common task that all (supervised learning) models have a `.score()` method that wraps the `accuracy_score()` helper function we've been using. All we have to do is pass it a dataset and the corresponding labels and it will return the accuracy score for those data/labels.  \n",
        "\n",
        "Let's use it to get the training accuracy of our model. In the cell below, call the `.score()` method on our bagging model and pass in our training data and training labels as parameters."
      ]
    },
    {
      "cell_type": "code",
      "execution_count": 28,
      "metadata": {
        "colab": {
          "base_uri": "https://localhost:8080/"
        },
        "id": "ABfD9WuEc44s",
        "outputId": "e35dfd4d-d65a-4883-c75a-c615ddb3d07b"
      },
      "outputs": [
        {
          "output_type": "execute_result",
          "data": {
            "text/plain": [
              "0.8277231777231777"
            ]
          },
          "metadata": {},
          "execution_count": 28
        }
      ],
      "source": [
        "# Training accuracy score\n",
        "bagged_tree.score(data_train, target_train)"
      ]
    },
    {
      "cell_type": "markdown",
      "metadata": {
        "id": "0jL9ja53c44s"
      },
      "source": [
        "Now, let's check the accuracy score that really matters -- our testing accuracy.  This time, pass in our testing data and labels to see how the model did.  "
      ]
    },
    {
      "cell_type": "code",
      "execution_count": 30,
      "metadata": {
        "colab": {
          "base_uri": "https://localhost:8080/"
        },
        "id": "0WAVPVfGc44s",
        "outputId": "0f26430b-74d6-46e8-d925-45905a1e162d"
      },
      "outputs": [
        {
          "output_type": "execute_result",
          "data": {
            "text/plain": [
              "0.8221348728657413"
            ]
          },
          "metadata": {},
          "execution_count": 30
        }
      ],
      "source": [
        "# Test accuracy score\n",
        "bagged_tree.score(data_test, target_test)"
      ]
    },
    {
      "cell_type": "markdown",
      "metadata": {
        "id": "kDZfizecc44s"
      },
      "source": [
        "## Random forests\n",
        "\n",
        "Another popular ensemble method is the **_Random Forest_**. Let's fit a random forest classifier next and see how it measures up compared to all the others."
      ]
    },
    {
      "cell_type": "markdown",
      "metadata": {
        "id": "Q5VYQfPJc44s"
      },
      "source": [
        "### Fit a random forests model"
      ]
    },
    {
      "cell_type": "markdown",
      "metadata": {
        "id": "htaA9wr1c44s"
      },
      "source": [
        "In the cell below, instantiate and fit a `RandomForestClassifier`, and set the number estimators to `100` and the max depth to `5`. Then, fit the model to our training data."
      ]
    },
    {
      "cell_type": "code",
      "execution_count": null,
      "metadata": {
        "id": "VAnODkmqc44t"
      },
      "outputs": [],
      "source": [
        "# Instantiate and fit a RandomForestClassifier\n",
        "forest = None"
      ]
    },
    {
      "cell_type": "markdown",
      "metadata": {
        "id": "oclKJrHec44t"
      },
      "source": [
        "Now, let's check the training and testing accuracy of the model using its `.score()` method:"
      ]
    },
    {
      "cell_type": "code",
      "execution_count": null,
      "metadata": {
        "id": "B-ftakemc44t"
      },
      "outputs": [],
      "source": [
        "# Training accuracy score"
      ]
    },
    {
      "cell_type": "code",
      "execution_count": null,
      "metadata": {
        "id": "hst09_F6c44t"
      },
      "outputs": [],
      "source": [
        "# Test accuracy score"
      ]
    },
    {
      "cell_type": "markdown",
      "metadata": {
        "id": "JCIE_TbOc44t"
      },
      "source": [
        "### Feature importance"
      ]
    },
    {
      "cell_type": "code",
      "execution_count": null,
      "metadata": {
        "id": "oAt1JNsNc44t"
      },
      "outputs": [],
      "source": [
        "plot_feature_importances(forest)"
      ]
    },
    {
      "cell_type": "markdown",
      "metadata": {
        "id": "uTufgoyyc44t"
      },
      "source": [
        "Note: \"relationship\" represents what this individual is relative to others. For example an\n",
        "individual could be a Husband. Each entry only has one relationship, so it is a bit of a weird attribute.\n",
        "\n",
        "Also note that more features show up. This is a pretty typical result."
      ]
    },
    {
      "cell_type": "markdown",
      "metadata": {
        "id": "pUDIHxjGc44u"
      },
      "source": [
        "### Look at the trees in your forest"
      ]
    },
    {
      "cell_type": "markdown",
      "metadata": {
        "id": "2o03sMmIc44u"
      },
      "source": [
        "Let's create a forest with some small trees. You'll learn how to access trees in your forest!\n",
        "\n",
        "In the cell below, create another `RandomForestClassifier`.  Set the number of estimators to 5, the `max_features` to 10, and the `max_depth` to 2."
      ]
    },
    {
      "cell_type": "code",
      "execution_count": null,
      "metadata": {
        "id": "DtWIGIL7c44u"
      },
      "outputs": [],
      "source": [
        "# Instantiate and fit a RandomForestClassifier\n",
        "forest_2 = None\n"
      ]
    },
    {
      "cell_type": "markdown",
      "metadata": {
        "id": "zjb07k7Jc44u"
      },
      "source": [
        "Making `max_features` smaller will lead to very different trees in your forest! The trees in your forest are stored in the `.estimators_` attribute.\n",
        "\n",
        "In the cell below, get the first tree from `forest_2.estimators_` and store it in `rf_tree_1`"
      ]
    },
    {
      "cell_type": "code",
      "execution_count": null,
      "metadata": {
        "id": "BVbFGUa0c44u"
      },
      "outputs": [],
      "source": [
        "# First tree from forest_2\n",
        "rf_tree_1 = None"
      ]
    },
    {
      "cell_type": "markdown",
      "metadata": {
        "id": "QumhMTnSc44v"
      },
      "source": [
        "Now, we can reuse our `plot_feature_importances()` function to visualize which features this tree was given to use duing subspace sampling.\n",
        "\n",
        "In the cell below, call `plot_feature_importances()` on `rf_tree_1`."
      ]
    },
    {
      "cell_type": "code",
      "execution_count": null,
      "metadata": {
        "id": "45SHed85c44v"
      },
      "outputs": [],
      "source": [
        "# Feature importance\n"
      ]
    },
    {
      "cell_type": "markdown",
      "metadata": {
        "id": "yWAqPRHFc44v"
      },
      "source": [
        "Now, grab the second tree and store it in `rf_tree_2`, and then pass it to `plot_feature_importances()` in the following cell so we can compare which features were most useful to each."
      ]
    },
    {
      "cell_type": "code",
      "execution_count": null,
      "metadata": {
        "id": "4fGNujLVc44v"
      },
      "outputs": [],
      "source": [
        "# Second tree from forest_2\n",
        "rf_tree_2 = None"
      ]
    },
    {
      "cell_type": "code",
      "execution_count": null,
      "metadata": {
        "id": "BLXdmpbGc44v"
      },
      "outputs": [],
      "source": [
        "# Feature importance"
      ]
    },
    {
      "cell_type": "markdown",
      "metadata": {
        "id": "7Y6u7Dadc44v"
      },
      "source": [
        "We can see by comparing the two plots that the two trees we examined from our random forest look at different attributes, and have wildly different feature importances!\n",
        "\n",
        "## Summary\n",
        "\n",
        "In this lab, we got some practice creating a few different tree ensemble methods. We also learned how to visualize feature importances, and compared individual trees from a random forest to see if we could notice the differences in the features they were trained on."
      ]
    }
  ],
  "metadata": {
    "kernelspec": {
      "display_name": "Python 3",
      "language": "python",
      "name": "python3"
    },
    "language_info": {
      "codemirror_mode": {
        "name": "ipython",
        "version": 3
      },
      "file_extension": ".py",
      "mimetype": "text/x-python",
      "name": "python",
      "nbconvert_exporter": "python",
      "pygments_lexer": "ipython3",
      "version": "3.7.3"
    },
    "colab": {
      "provenance": []
    }
  },
  "nbformat": 4,
  "nbformat_minor": 0
}